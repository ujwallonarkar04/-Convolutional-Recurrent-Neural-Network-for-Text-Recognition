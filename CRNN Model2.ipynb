{
 "cells": [
  {
   "cell_type": "markdown",
   "metadata": {
    "code_folding": []
   },
   "source": [
    "# Convolutional Recurrent Neural Network for Text Recognition"
   ]
  },
  {
   "cell_type": "code",
   "execution_count": 12,
   "metadata": {},
   "outputs": [],
   "source": [
    "import os\n",
    "import fnmatch\n",
    "import cv2\n",
    "import numpy as np\n",
    "import string\n",
    "import time\n",
    "from tensorflow.keras.preprocessing.sequence import pad_sequences\n",
    "from tensorflow.keras.layers import Dense, LSTM\n",
    "from keras.layers import  Reshape, BatchNormalization, Input, Conv2D, MaxPool2D, Lambda, Bidirectional\n",
    "from keras.models import Model\n",
    "from keras.activations import relu, sigmoid, softmax\n",
    "import keras.backend as K\n",
    "from keras.utils import to_categorical\n",
    "from keras.callbacks import ModelCheckpoint\n",
    "import cv2\n",
    "import numpy as np\n",
    "from tensorflow.keras import backend as K\n",
    "import matplotlib.pyplot as plt\n",
    "import matplotlib.image as mpimg"
   ]
  },
  {
   "cell_type": "code",
   "execution_count": null,
   "metadata": {},
   "outputs": [],
   "source": []
  },
  {
   "cell_type": "code",
   "execution_count": 2,
   "metadata": {},
   "outputs": [],
   "source": [
    "import tensorflow as tf\n",
    "import warnings\n",
    "warnings.filterwarnings('ignore')\n",
    "\n",
    "tf.get_logger().setLevel('ERROR')\n"
   ]
  },
  {
   "cell_type": "code",
   "execution_count": 3,
   "metadata": {},
   "outputs": [
    {
     "name": "stdout",
     "output_type": "stream",
     "text": [
      "[name: \"/device:CPU:0\"\n",
      "device_type: \"CPU\"\n",
      "memory_limit: 268435456\n",
      "locality {\n",
      "}\n",
      "incarnation: 3530243563096296590\n",
      "xla_global_id: -1\n",
      "]\n",
      "Device mapping: no known devices.\n"
     ]
    }
   ],
   "source": [
    "from tensorflow.python.client import device_lib\n",
    "print(device_lib.list_local_devices())\n",
    "sess = tf.compat.v1.Session(config=tf.compat.v1.ConfigProto(log_device_placement=True))\n"
   ]
  },
  {
   "cell_type": "code",
   "execution_count": 4,
   "metadata": {},
   "outputs": [],
   "source": [
    "char_list = string.ascii_letters+string.digits \n",
    "def encode_to_labels(txt):\n",
    "    dig_lst = []\n",
    "    for index, char in enumerate(txt):\n",
    "        try:\n",
    "            dig_lst.append(char_list.index(char))\n",
    "        except:\n",
    "            print(char)\n",
    "        \n",
    "    return dig_lst"
   ]
  },
  {
   "cell_type": "code",
   "execution_count": 5,
   "metadata": {},
   "outputs": [],
   "source": [
    "import cv2\n",
    "import os\n",
    "import fnmatch\n",
    "import numpy as np\n",
    "\n",
    "\n",
    "path = 'Train_data/' \n",
    "\n",
    "\n",
    "training_img = []\n",
    "training_txt = []\n",
    "train_input_length = []\n",
    "train_label_length = []\n",
    "orig_txt = []\n",
    "\n",
    "valid_img = []\n",
    "valid_txt = []\n",
    "valid_input_length = []\n",
    "valid_label_length = []\n",
    "valid_orig_txt = []\n",
    "\n",
    "max_label_len = 0\n",
    "\n",
    "i = 1 \n",
    "flag = 0\n",
    "\n",
    "for root, dirnames, filenames in os.walk(path):\n",
    "\n",
    "    for f_name in fnmatch.filter(filenames, '*.jpg'):\n",
    "        img = cv2.imread(os.path.join(root, f_name), cv2.IMREAD_GRAYSCALE)\n",
    "\n",
    "        w, h = img.shape\n",
    "        if h > 128 or w > 32:\n",
    "            continue\n",
    "        if w < 32:\n",
    "            add_zeros = np.ones((32-w, h)) * 255\n",
    "            img = np.vstack((img, add_zeros))\n",
    "        if h < 128:\n",
    "            add_zeros = np.ones((32, 128-h)) * 255\n",
    "            img = np.hstack((img, add_zeros))\n",
    "        img = np.expand_dims(img, axis=2)\n",
    "     \n",
    "        img = img / 255.\n",
    "        #txt = f_name.split('_')[1]\n",
    "        txt = f_name.split('_')[1].replace(\".jpg\", \"\")\n",
    "\n",
    "        \n",
    "        if len(txt) > max_label_len:\n",
    "            max_label_len = len(txt)\n",
    "\n",
    "       \n",
    "        if i % 10 == 0:     \n",
    "            valid_orig_txt.append(txt)   \n",
    "            valid_label_length.append(len(txt))\n",
    "            valid_input_length.append(31)\n",
    "            valid_img.append(img)\n",
    "            valid_txt.append(encode_to_labels(txt))\n",
    "        else:\n",
    "            orig_txt.append(txt)   \n",
    "            train_label_length.append(len(txt))\n",
    "            train_input_length.append(31)\n",
    "            training_img.append(img)\n",
    "            training_txt.append(encode_to_labels(txt)) \n",
    "\n",
    "        if i == 50000:\n",
    "            flag = 1\n",
    "            break\n",
    "        i += 1\n",
    "\n",
    "    if flag == 1:\n",
    "        break\n"
   ]
  },
  {
   "cell_type": "code",
   "execution_count": 6,
   "metadata": {},
   "outputs": [],
   "source": [
    " \n",
    "train_padded_txt = pad_sequences(training_txt, maxlen=max_label_len, padding='post', value = len(char_list))\n",
    "valid_padded_txt = pad_sequences(valid_txt, maxlen=max_label_len, padding='post', value = len(char_list))"
   ]
  },
  {
   "cell_type": "markdown",
   "metadata": {},
   "source": [
    "### Network Archtecture"
   ]
  },
  {
   "cell_type": "markdown",
   "metadata": {},
   "source": [
    "1. Input shape for our architecture having an input image of height 32 and width 128.\n",
    "2. Here we used seven convolution layers of which 6 are having kernel size (3,3) and the last one is of size (2.2). And the    number of filters is increased from 64 to 512 layer by layer.\n",
    "3. Two max-pooling layers are added with size (2,2) and then two max-pooling layers of size (2,1) are added to extract        features with a larger width to predict long texts.\n",
    "4. Also, we used batch normalization layers after fifth and sixth convolution layers which accelerates the training       process.\n",
    "5. Then we used a lambda function to squeeze the output from conv layer and make it compatible with LSTM layer.\n",
    "6. Then used two Bidirectional LSTM layers each of which has 128 units. This RNN layer gives the output of size (batch_size, 31, 63). Where 63 is the total number of output classes including blank character."
   ]
  },
  {
   "cell_type": "code",
   "execution_count": 7,
   "metadata": {},
   "outputs": [],
   "source": [
    "# input with shape of height=32 and width=128 \n",
    "inputs = Input(shape=(32,128,1))\n",
    " \n",
    "# convolution layer with kernel size (3,3)\n",
    "conv_1 = Conv2D(64, (3,3), activation = 'relu', padding='same')(inputs)\n",
    "# poolig layer with kernel size (2,2)\n",
    "pool_1 = MaxPool2D(pool_size=(2, 2), strides=2)(conv_1)\n",
    " \n",
    "conv_2 = Conv2D(128, (3,3), activation = 'relu', padding='same')(pool_1)\n",
    "pool_2 = MaxPool2D(pool_size=(2, 2), strides=2)(conv_2)\n",
    " \n",
    "conv_3 = Conv2D(256, (3,3), activation = 'relu', padding='same')(pool_2)\n",
    " \n",
    "conv_4 = Conv2D(256, (3,3), activation = 'relu', padding='same')(conv_3)\n",
    "# poolig layer with kernel size (2,1)\n",
    "pool_4 = MaxPool2D(pool_size=(2, 1))(conv_4)\n",
    " \n",
    "conv_5 = Conv2D(512, (3,3), activation = 'relu', padding='same')(pool_4)\n",
    "# Batch normalization layer\n",
    "batch_norm_5 = BatchNormalization()(conv_5)\n",
    " \n",
    "conv_6 = Conv2D(512, (3,3), activation = 'relu', padding='same')(batch_norm_5)\n",
    "batch_norm_6 = BatchNormalization()(conv_6)\n",
    "pool_6 = MaxPool2D(pool_size=(2, 1))(batch_norm_6)\n",
    " \n",
    "conv_7 = Conv2D(512, (2,2), activation = 'relu')(pool_6)\n",
    " \n",
    "squeezed = Lambda(lambda x: K.squeeze(x, 1))(conv_7)\n",
    " \n",
    "# bidirectional LSTM layers with units=128\n",
    "blstm_1 = Bidirectional(LSTM(128, return_sequences=True, dropout = 0.2))(squeezed)\n",
    "blstm_2 = Bidirectional(LSTM(128, return_sequences=True, dropout = 0.2))(blstm_1)\n",
    " \n",
    "outputs = Dense(len(char_list)+1, activation = 'softmax')(blstm_2)\n",
    "\n",
    "# model to be used at test time\n",
    "act_model = Model(inputs, outputs)"
   ]
  },
  {
   "cell_type": "code",
   "execution_count": 8,
   "metadata": {},
   "outputs": [
    {
     "name": "stdout",
     "output_type": "stream",
     "text": [
      "Model: \"model\"\n",
      "_________________________________________________________________\n",
      " Layer (type)                Output Shape              Param #   \n",
      "=================================================================\n",
      " input_1 (InputLayer)        [(None, 32, 128, 1)]      0         \n",
      "                                                                 \n",
      " conv2d (Conv2D)             (None, 32, 128, 64)       640       \n",
      "                                                                 \n",
      " max_pooling2d (MaxPooling2D  (None, 16, 64, 64)       0         \n",
      " )                                                               \n",
      "                                                                 \n",
      " conv2d_1 (Conv2D)           (None, 16, 64, 128)       73856     \n",
      "                                                                 \n",
      " max_pooling2d_1 (MaxPooling  (None, 8, 32, 128)       0         \n",
      " 2D)                                                             \n",
      "                                                                 \n",
      " conv2d_2 (Conv2D)           (None, 8, 32, 256)        295168    \n",
      "                                                                 \n",
      " conv2d_3 (Conv2D)           (None, 8, 32, 256)        590080    \n",
      "                                                                 \n",
      " max_pooling2d_2 (MaxPooling  (None, 4, 32, 256)       0         \n",
      " 2D)                                                             \n",
      "                                                                 \n",
      " conv2d_4 (Conv2D)           (None, 4, 32, 512)        1180160   \n",
      "                                                                 \n",
      " batch_normalization (BatchN  (None, 4, 32, 512)       2048      \n",
      " ormalization)                                                   \n",
      "                                                                 \n",
      " conv2d_5 (Conv2D)           (None, 4, 32, 512)        2359808   \n",
      "                                                                 \n",
      " batch_normalization_1 (Batc  (None, 4, 32, 512)       2048      \n",
      " hNormalization)                                                 \n",
      "                                                                 \n",
      " max_pooling2d_3 (MaxPooling  (None, 2, 32, 512)       0         \n",
      " 2D)                                                             \n",
      "                                                                 \n",
      " conv2d_6 (Conv2D)           (None, 1, 31, 512)        1049088   \n",
      "                                                                 \n",
      " lambda (Lambda)             (None, 31, 512)           0         \n",
      "                                                                 \n",
      " bidirectional (Bidirectiona  (None, 31, 256)          656384    \n",
      " l)                                                              \n",
      "                                                                 \n",
      " bidirectional_1 (Bidirectio  (None, 31, 256)          394240    \n",
      " nal)                                                            \n",
      "                                                                 \n",
      " dense (Dense)               (None, 31, 63)            16191     \n",
      "                                                                 \n",
      "=================================================================\n",
      "Total params: 6,619,711\n",
      "Trainable params: 6,617,663\n",
      "Non-trainable params: 2,048\n",
      "_________________________________________________________________\n"
     ]
    }
   ],
   "source": [
    "act_model.summary()"
   ]
  },
  {
   "cell_type": "markdown",
   "metadata": {},
   "source": [
    "### Loss Function"
   ]
  },
  {
   "cell_type": "code",
   "execution_count": 9,
   "metadata": {},
   "outputs": [],
   "source": [
    "labels = Input(name='the_labels', shape=[max_label_len], dtype='float32')\n",
    "input_length = Input(name='input_length', shape=[1], dtype='int64')\n",
    "label_length = Input(name='label_length', shape=[1], dtype='int64')\n",
    " \n",
    " \n",
    "def ctc_lambda_func(args):\n",
    "    y_pred, labels, input_length, label_length = args\n",
    " \n",
    "    return K.ctc_batch_cost(labels, y_pred, input_length, label_length)\n",
    " \n",
    " \n",
    "loss_out = Lambda(ctc_lambda_func, output_shape=(1,), name='ctc')([outputs, labels, input_length, label_length])\n",
    "\n",
    "#model to be used at training time\n",
    "model = Model(inputs=[inputs, labels, input_length, label_length], outputs=loss_out)"
   ]
  },
  {
   "cell_type": "markdown",
   "metadata": {},
   "source": [
    "### train the Model"
   ]
  },
  {
   "cell_type": "code",
   "execution_count": 10,
   "metadata": {},
   "outputs": [],
   "source": [
    "model.compile(loss={'ctc': lambda y_true, y_pred: y_pred}, optimizer = 'adam')\n",
    " \n",
    "filepath=\"best_model.hdf5\"\n",
    "checkpoint = ModelCheckpoint(filepath=filepath, monitor='val_loss', verbose=1, save_best_only=True, mode='auto')\n",
    "callbacks_list = [checkpoint]"
   ]
  },
  {
   "cell_type": "code",
   "execution_count": 11,
   "metadata": {},
   "outputs": [],
   "source": [
    "training_img = np.array(training_img)\n",
    "train_input_length = np.array(train_input_length)\n",
    "train_label_length = np.array(train_label_length)\n",
    "valid_img = np.array(valid_img)\n",
    "valid_input_length = np.array(valid_input_length)\n",
    "valid_label_length = np.array(valid_label_length)"
   ]
  },
  {
   "cell_type": "code",
   "execution_count": 22,
   "metadata": {},
   "outputs": [
    {
     "name": "stdout",
     "output_type": "stream",
     "text": [
      "Epoch 1/10\n",
      "176/176 [==============================] - ETA: 0s - loss: 29.9149\n",
      "Epoch 1: val_loss improved from inf to 28.29442, saving model to best_model.hdf5\n",
      "176/176 [==============================] - 1231s 7s/step - loss: 29.9149 - val_loss: 28.2944\n",
      "Epoch 2/10\n",
      "176/176 [==============================] - ETA: 0s - loss: 25.9021 \n",
      "Epoch 2: val_loss did not improve from 28.29442\n",
      "176/176 [==============================] - 2534s 14s/step - loss: 25.9021 - val_loss: 28.4867\n",
      "Epoch 3/10\n",
      "176/176 [==============================] - ETA: 0s - loss: 22.9995\n",
      "Epoch 3: val_loss improved from 28.29442 to 25.43919, saving model to best_model.hdf5\n",
      "176/176 [==============================] - 1136s 6s/step - loss: 22.9995 - val_loss: 25.4392\n",
      "Epoch 4/10\n",
      "176/176 [==============================] - ETA: 0s - loss: 17.4271 \n",
      "Epoch 4: val_loss improved from 25.43919 to 20.45889, saving model to best_model.hdf5\n",
      "176/176 [==============================] - 2395s 14s/step - loss: 17.4271 - val_loss: 20.4589\n",
      "Epoch 5/10\n",
      "176/176 [==============================] - ETA: 0s - loss: 9.1581\n",
      "Epoch 5: val_loss improved from 20.45889 to 7.75991, saving model to best_model.hdf5\n",
      "176/176 [==============================] - 1323s 8s/step - loss: 9.1581 - val_loss: 7.7599\n",
      "Epoch 6/10\n",
      "176/176 [==============================] - ETA: 0s - loss: 5.9074\n",
      "Epoch 6: val_loss improved from 7.75991 to 5.64118, saving model to best_model.hdf5\n",
      "176/176 [==============================] - 1201s 7s/step - loss: 5.9074 - val_loss: 5.6412\n",
      "Epoch 7/10\n",
      "176/176 [==============================] - ETA: 0s - loss: 4.6229\n",
      "Epoch 7: val_loss improved from 5.64118 to 4.97866, saving model to best_model.hdf5\n",
      "176/176 [==============================] - 1207s 7s/step - loss: 4.6229 - val_loss: 4.9787\n",
      "Epoch 8/10\n",
      "176/176 [==============================] - ETA: 0s - loss: 3.8679\n",
      "Epoch 8: val_loss improved from 4.97866 to 4.57280, saving model to best_model.hdf5\n",
      "176/176 [==============================] - 1188s 7s/step - loss: 3.8679 - val_loss: 4.5728\n",
      "Epoch 9/10\n",
      "176/176 [==============================] - ETA: 0s - loss: 3.3296\n",
      "Epoch 9: val_loss improved from 4.57280 to 4.27260, saving model to best_model.hdf5\n",
      "176/176 [==============================] - 1208s 7s/step - loss: 3.3296 - val_loss: 4.2726\n",
      "Epoch 10/10\n",
      "176/176 [==============================] - ETA: 0s - loss: 2.9225 \n",
      "Epoch 10: val_loss improved from 4.27260 to 4.13837, saving model to best_model.hdf5\n",
      "176/176 [==============================] - 1919s 11s/step - loss: 2.9225 - val_loss: 4.1384\n"
     ]
    },
    {
     "data": {
      "text/plain": [
       "<keras.callbacks.History at 0x1ce8135f8b0>"
      ]
     },
     "execution_count": 22,
     "metadata": {},
     "output_type": "execute_result"
    }
   ],
   "source": [
    "batch_size = 256\n",
    "epochs = 10\n",
    "  \n",
    "model.fit(x=[training_img, train_padded_txt, train_input_length, train_label_length],\n",
    "          y=np.zeros(len(training_img)), \n",
    "          batch_size=batch_size, epochs = epochs,\n",
    "          validation_data = ([valid_img, valid_padded_txt, valid_input_length, valid_label_length], \n",
    "          [np.zeros(len(valid_img))]), verbose = 1, callbacks = callbacks_list)"
   ]
  },
  {
   "cell_type": "code",
   "execution_count": 52,
   "metadata": {},
   "outputs": [
    {
     "data": {
      "image/png": "[encoded data removed]",
      "text/plain": [
       "<Figure size 1200x600 with 1 Axes>"
      ]
     },
     "metadata": {},
     "output_type": "display_data"
    }
   ],
   "source": [
    "train_loss = [29.9149, 25.9021, 22.9995, 17.4271, 9.1581, 5.9074, 4.6229, 3.8679, 3.3296, 2.9225]\n",
    "val_loss = [28.2944, 28.4867, 25.4392, 20.4589, 7.7599, 5.6412, 4.9787, 4.5728, 4.2726, 4.1384]\n",
    "\n",
    "plt.figure(figsize=(12,6))\n",
    "plt.plot(train_loss, label=\"Training Loss\")\n",
    "plt.plot(val_loss, label=\"Validation Loss\")\n",
    "plt.xlabel(\"Epochs\")\n",
    "plt.ylabel(\"Loss\")\n",
    "plt.title(\"Training vs Validation Loss\")\n",
    "plt.legend()\n",
    "plt.show()\n"
   ]
  },
  {
   "cell_type": "markdown",
   "metadata": {},
   "source": [
    "### Test the Model"
   ]
  },
  {
   "cell_type": "code",
   "execution_count": 4,
   "metadata": {},
   "outputs": [
    {
     "ename": "NameError",
     "evalue": "name 'act_model' is not defined",
     "output_type": "error",
     "traceback": [
      "\u001b[1;31m---------------------------------------------------------------------------\u001b[0m",
      "\u001b[1;31mNameError\u001b[0m                                 Traceback (most recent call last)",
      "\u001b[1;32m~\\AppData\\Local\\Temp\\ipykernel_6408\\296093020.py\u001b[0m in \u001b[0;36m<module>\u001b[1;34m\u001b[0m\n\u001b[1;32m----> 1\u001b[1;33m \u001b[0mact_model\u001b[0m\u001b[1;33m.\u001b[0m\u001b[0mload_weights\u001b[0m\u001b[1;33m(\u001b[0m\u001b[1;34m'best_model.hdf5'\u001b[0m\u001b[1;33m)\u001b[0m\u001b[1;33m\u001b[0m\u001b[1;33m\u001b[0m\u001b[0m\n\u001b[0m",
      "\u001b[1;31mNameError\u001b[0m: name 'act_model' is not defined"
     ]
    }
   ],
   "source": [
    "act_model.load_weights('best_model.hdf5')"
   ]
  },
  {
   "cell_type": "code",
   "execution_count": 56,
   "metadata": {},
   "outputs": [],
   "source": [
    "def preprocess_image(image_path):\n",
    "    img = cv2.imread(image_path, cv2.IMREAD_GRAYSCALE)\n",
    "    w, h = img.shape\n",
    "    if h > 128 or w > 32:\n",
    "        return None\n",
    "    if w < 32:\n",
    "        add_zeros = np.ones((32-w, h)) * 255\n",
    "        img = np.vstack((img, add_zeros))\n",
    "    if h < 128:\n",
    "        add_zeros = np.ones((32, 128-h)) * 255\n",
    "        img = np.hstack((img, add_zeros))\n",
    "    img = np.expand_dims(img, axis=2)\n",
    "    img = img / 255.\n",
    "\n",
    "    return img\n",
    "\n",
    "def predict_image_text(image_path, model, char_list):\n",
    "    processed_image = preprocess_image(image_path)\n",
    "    if processed_image is not None:\n",
    "        prediction = model.predict(np.array([processed_image]))\n",
    "        out = K.get_value(K.ctc_decode(prediction, input_length=np.ones(prediction.shape[0])*prediction.shape[1], greedy=True)[0][0])\n",
    "        \n",
    "        for x in out:\n",
    "            predicted_text = ''.join([char_list[int(p)] for p in x if int(p) != -1])\n",
    "            predicted_text = predicted_text.split('jpg')[0] \n",
    "            predicted_text = predicted_text.upper()\n",
    "            return predicted_text\n",
    "    else:\n",
    "        return \"Image dimensions are not suitable for the model.\"\n",
    "\n",
    "def plot_image(image_path):\n",
    "    img= mpimg.imread(image_path)\n",
    "    plt.imshow(img)\n",
    "    plt.axis('off')\n",
    "    plt.show()"
   ]
  },
  {
   "cell_type": "code",
   "execution_count": 58,
   "metadata": {},
   "outputs": [
    {
     "data": {
      "image/png": "[encoded data removed]",
      "text/plain": [
       "<Figure size 640x480 with 1 Axes>"
      ]
     },
     "metadata": {},
     "output_type": "display_data"
    },
    {
     "name": "stdout",
     "output_type": "stream",
     "text": [
      "1/1 [==============================] - 0s 106ms/step\n",
      "POSTPONEMEN\n"
     ]
    }
   ],
   "source": [
    "image_path = \"C:\\\\Users\\\\Saurabh Bhite\\\\project_Dot\\\\Test_data\\\\99956_Postponement.jpg\"\n",
    "plot_image(image_path)\n",
    "print(predict_image_text(image_path, act_model, char_list))"
   ]
  },
  {
   "cell_type": "code",
   "execution_count": 60,
   "metadata": {},
   "outputs": [
    {
     "data": {
      "image/png": "[encoded data removed]",
      "text/plain": [
       "<Figure size 640x480 with 1 Axes>"
      ]
     },
     "metadata": {},
     "output_type": "display_data"
    },
    {
     "name": "stdout",
     "output_type": "stream",
     "text": [
      "1/1 [==============================] - 0s 110ms/step\n",
      "POSTPONEMEN\n"
     ]
    },
    {
     "data": {
      "image/png": "[encoded data removed]",
      "text/plain": [
       "<Figure size 640x480 with 1 Axes>"
      ]
     },
     "metadata": {},
     "output_type": "display_data"
    },
    {
     "name": "stdout",
     "output_type": "stream",
     "text": [
      "1/1 [==============================] - 0s 96ms/step\n",
      "ACQUNTANT\n"
     ]
    },
    {
     "data": {
      "image/png": "[encoded data removed]",
      "text/plain": [
       "<Figure size 640x480 with 1 Axes>"
      ]
     },
     "metadata": {},
     "output_type": "display_data"
    },
    {
     "name": "stdout",
     "output_type": "stream",
     "text": [
      "1/1 [==============================] - 0s 91ms/step\n",
      "MATZOTH\n"
     ]
    }
   ],
   "source": [
    "def preprocess_image(image_path):\n",
    "    img = cv2.imread(image_path, cv2.IMREAD_GRAYSCALE)\n",
    "    w, h = img.shape\n",
    "    if h > 128 or w > 32:\n",
    "        return None\n",
    "    if w < 32:\n",
    "        add_zeros = np.ones((32-w, h)) * 255\n",
    "        img = np.vstack((img, add_zeros))\n",
    "    if h < 128:\n",
    "        add_zeros = np.ones((32, 128-h)) * 255\n",
    "        img = np.hstack((img, add_zeros))\n",
    "    img = np.expand_dims(img, axis=2)\n",
    "    img = img / 255.\n",
    "    return img\n",
    "\n",
    "def predict_image_text(image_path, model, char_list):\n",
    "    processed_image = preprocess_image(image_path)\n",
    "    if processed_image is not None:\n",
    "        prediction = model.predict(np.array([processed_image]))\n",
    "        out = K.get_value(K.ctc_decode(prediction, input_length=np.ones(prediction.shape[0])*prediction.shape[1], greedy=True)[0][0])\n",
    "        \n",
    "        for x in out:\n",
    "            predicted_text = ''.join([char_list[int(p)] for p in x if int(p) != -1])\n",
    "            predicted_text = predicted_text.split('jpg')[0] \n",
    "            predicted_text = predicted_text.upper()\n",
    "            return predicted_text\n",
    "    else:\n",
    "        return \"Image dimensions are not suitable for the model.\"\n",
    "\n",
    "def display_image_and_text(image_path, model, char_list):\n",
    "    img = mpimg.imread(image_path)\n",
    "    plt.imshow(img)\n",
    "    plt.axis('off')\n",
    "    plt.show()\n",
    "\n",
    "    \n",
    "    print(predict_image_text(image_path, model, char_list))\n",
    "    \n",
    "image_paths = [\n",
    "    \"C:\\\\Users\\\\Saurabh Bhite\\\\project_Dot\\\\Test_data\\\\99956_Postponement.jpg\",\n",
    "    \"C:\\\\Users\\\\Saurabh Bhite\\\\project_Dot\\\\Test_data\\\\99977_ACCOUNTANT.jpg\",\n",
    "    \"C:\\\\Users\\\\Saurabh Bhite\\\\project_Dot\\\\Test_data\\\\99990_Matzoth.jpg\",\n",
    "    \"C:\\\\Users\\\\Saurabh Bhite\\\\project_Dot\\\\Val_data\\\\8_LEXERS.jpg\"\n",
    "]\n",
    "\n",
    "for path in image_paths:\n",
    "    display_image_and_text(path, act_model, char_list)\n"
   ]
  },
  {
   "cell_type": "code",
   "execution_count": null,
   "metadata": {},
   "outputs": [],
   "source": []
  }
 ],
 "metadata": {
  "kernelspec": {
   "display_name": "Python 3 (ipykernel)",
   "language": "python",
   "name": "python3"
  },
  "language_info": {
   "codemirror_mode": {
    "name": "ipython",
    "version": 3
   },
   "file_extension": ".py",
   "mimetype": "text/x-python",
   "name": "python",
   "nbconvert_exporter": "python",
   "pygments_lexer": "ipython3",
   "version": "3.9.12"
  }
 },
 "nbformat": 4,
 "nbformat_minor": 2
}
